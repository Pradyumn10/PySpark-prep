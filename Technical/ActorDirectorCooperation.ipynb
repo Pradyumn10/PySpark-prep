{
 "cells": [
  {
   "cell_type": "markdown",
   "metadata": {},
   "source": [
    "### Actors and Directors Who Cooperated At Least Three Times\n",
    "Write a pyspark Program for a report that provides the pairs (actor_id, director_id) where the actor has cooperated with the director at least 3 times\n",
    "\n",
    "##### Difficult Level : EASY\n",
    "\n",
    "###### DataFrame:\n",
    "schema = StructType([\n",
    "StructField(\"ActorId\",IntegerType(),True),\n",
    "StructField(\"DirectorId\",IntegerType(),True),\n",
    "StructField(\"timestamp\",IntegerType(),True)\n",
    "])\n",
    "data = [\n",
    "(1, 1, 0),\n",
    "(1, 1, 1),\n",
    "(1, 1, 2),\n",
    "(1, 2, 3),\n",
    "(1, 2, 4),\n",
    "(2, 1, 5),\n",
    "(2, 1, 6)\n",
    "]\n"
   ]
  },
  {
   "cell_type": "code",
   "execution_count": 9,
   "metadata": {},
   "outputs": [],
   "source": [
    "from pyspark.sql import SparkSession\n",
    "from pyspark.sql.types import StructType, StructField, LongType, StringType, TimestampType, IntegerType\n",
    "from pyspark.sql.functions import col, to_timestamp, lit\n",
    "from datetime import datetime\n",
    "import pandas as pd"
   ]
  },
  {
   "cell_type": "code",
   "execution_count": 7,
   "metadata": {},
   "outputs": [],
   "source": [
    "spark = SparkSession.builder\\\n",
    "        .master(\"local[*]\") \\\n",
    "        .appName(\"Actor_directors\")\\\n",
    "        .getOrCreate()"
   ]
  },
  {
   "cell_type": "code",
   "execution_count": 11,
   "metadata": {},
   "outputs": [],
   "source": [
    "schema = StructType([\n",
    "StructField(\"ActorId\",IntegerType(),True),\n",
    "StructField(\"DirectorId\",IntegerType(),True),\n",
    "StructField(\"timestamp\",IntegerType(),True)\n",
    "])\n",
    "\n",
    "data = [\n",
    "(1, 1, 0),\n",
    "(1, 1, 1),\n",
    "(1, 1, 2),\n",
    "(1, 2, 3),\n",
    "(1, 2, 4),\n",
    "(2, 1, 5),\n",
    "(2, 1, 6)\n",
    "]\n",
    "\n",
    "df = spark.createDataFrame(data, schema)"
   ]
  },
  {
   "cell_type": "code",
   "execution_count": 12,
   "metadata": {},
   "outputs": [
    {
     "name": "stdout",
     "output_type": "stream",
     "text": [
      "+-------+----------+---------+\n",
      "|ActorId|DirectorId|timestamp|\n",
      "+-------+----------+---------+\n",
      "|      1|         1|        0|\n",
      "|      1|         1|        1|\n",
      "|      1|         1|        2|\n",
      "|      1|         2|        3|\n",
      "|      1|         2|        4|\n",
      "|      2|         1|        5|\n",
      "|      2|         1|        6|\n",
      "+-------+----------+---------+\n",
      "\n"
     ]
    }
   ],
   "source": [
    "df.show()"
   ]
  },
  {
   "cell_type": "code",
   "execution_count": 13,
   "metadata": {},
   "outputs": [
    {
     "name": "stdout",
     "output_type": "stream",
     "text": [
      "+-------+----------+-----+\n",
      "|ActorId|DirectorId|count|\n",
      "+-------+----------+-----+\n",
      "|      1|         1|    3|\n",
      "|      1|         2|    2|\n",
      "|      2|         1|    2|\n",
      "+-------+----------+-----+\n",
      "\n"
     ]
    }
   ],
   "source": [
    "df_group = df.groupBy(\"ActorId\", \"DirectorId\").count()\n",
    "df_group.show()"
   ]
  },
  {
   "cell_type": "code",
   "execution_count": 15,
   "metadata": {},
   "outputs": [
    {
     "name": "stdout",
     "output_type": "stream",
     "text": [
      "+-------+----------+-----+\n",
      "|ActorId|DirectorId|count|\n",
      "+-------+----------+-----+\n",
      "|      1|         1|    3|\n",
      "+-------+----------+-----+\n",
      "\n"
     ]
    }
   ],
   "source": [
    "df_group.filter(col(\"count\") >= 3).show()"
   ]
  },
  {
   "cell_type": "code",
   "execution_count": null,
   "metadata": {},
   "outputs": [],
   "source": []
  }
 ],
 "metadata": {
  "kernelspec": {
   "display_name": "Python 3",
   "language": "python",
   "name": "python3"
  },
  "language_info": {
   "codemirror_mode": {
    "name": "ipython",
    "version": 3
   },
   "file_extension": ".py",
   "mimetype": "text/x-python",
   "name": "python",
   "nbconvert_exporter": "python",
   "pygments_lexer": "ipython3",
   "version": "3.10.6"
  }
 },
 "nbformat": 4,
 "nbformat_minor": 2
}
